{
 "cells": [
  {
   "cell_type": "code",
   "execution_count": 3,
   "id": "bd2b8b7a-5708-4781-8aa5-445bb7d3c763",
   "metadata": {},
   "outputs": [
    {
     "name": "stdout",
     "output_type": "stream",
     "text": [
      "0\n"
     ]
    }
   ],
   "source": [
    "from functools import reduce\n",
    "from operator import mul\n",
    "\n",
    "def product_of_numbers(lst):\n",
    "    flat_list = []\n",
    "    def flatten(lst):\n",
    "        for item in lst:\n",
    "            if isinstance(item, (list, tuple, set)):\n",
    "                flatten(item)\n",
    "            elif isinstance(item, int) or isinstance(item, float):\n",
    "                flat_list.append(item)\n",
    "    flatten(lst)\n",
    "    return reduce(mul, flat_list) if flat_list else 0\n",
    "\n",
    "list1 = [1, 2, 3, 4, [44, 55, 66, True], False, (34, 56, 78, 89, 34), {1, 2, 3, 3, 2, 1}, {1: 34, \"key2\": [55, 67, 78, 89], 4: (45, 22, 61, 34)}, [56, 'data science'], 'Machine Learning']\n",
    "print(product_of_numbers(list1))"
   ]
  },
  {
   "cell_type": "markdown",
   "id": "6332d51c-1572-40b2-89f3-d13d25539747",
   "metadata": {},
   "source": [
    "The function first creates an empty list flat_list, which will be used to store all the numbers found in the original list. Then, the function flatten is defined to recursively flatten the input list by checking each item in the list and appending it to flat_list if it's an instance of int or float.\n",
    "\n",
    "Finally, the reduce function from the functools module is used to apply the mul operator to all elements in flat_list, computing the product of all the numbers. If flat_list is empty, the function returns 0.\n",
    "\n",
    "This function will output the product of all the numbers in list1, which is 0 in this case because there are no numbers in the list"
   ]
  },
  {
   "cell_type": "code",
   "execution_count": 4,
   "id": "2aee92fc-c80b-4e92-bc68-a24fb8783501",
   "metadata": {},
   "outputs": [
    {
     "name": "stdout",
     "output_type": "stream",
     "text": [
      "R$dzmg$gl$yvxlnv$z$Wzgz$Hxrvmgrhg.\n"
     ]
    }
   ],
   "source": [
    "def encrypt_message(message):\n",
    "    alphabet = 'abcdefghijklmnopqrstuvwxyz'\n",
    "    encrypted_message = ''\n",
    "    for char in message:\n",
    "        if char.lower() in alphabet:\n",
    "            encrypted_message += alphabet[25 - alphabet.index(char.lower())].upper() if char.isupper() else alphabet[25 - alphabet.index(char.lower())]\n",
    "        elif char.isspace():\n",
    "            encrypted_message += '$'\n",
    "        else:\n",
    "            encrypted_message += char\n",
    "    return encrypted_message\n",
    "\n",
    "message = \"I want to become a Data Scientist.\"\n",
    "encrypted_message = encrypt_message(message)\n",
    "print(encrypted_message)"
   ]
  }
 ],
 "metadata": {
  "kernelspec": {
   "display_name": "Python 3 (ipykernel)",
   "language": "python",
   "name": "python3"
  },
  "language_info": {
   "codemirror_mode": {
    "name": "ipython",
    "version": 3
   },
   "file_extension": ".py",
   "mimetype": "text/x-python",
   "name": "python",
   "nbconvert_exporter": "python",
   "pygments_lexer": "ipython3",
   "version": "3.10.8"
  }
 },
 "nbformat": 4,
 "nbformat_minor": 5
}
