{
 "cells": [
  {
   "cell_type": "markdown",
   "id": "31c93399-8780-412c-be01-452682acd467",
   "metadata": {},
   "source": [
    "def product_of_numbers(lst):\n",
    "    flat_lst = []\n",
    "    for item in lst:\n",
    "        if isinstance(item, (int, float)):\n",
    "            flat_lst.append(item)\n",
    "        elif isinstance(item, (list, tuple, set)):\n",
    "            flat_lst.extend([i for i in item if isinstance(i, (int, float))])\n",
    "        elif isinstance(item, dict):\n",
    "            for key, value in item.items():\n",
    "                if isinstance(key, (int, float)):\n",
    "                    flat_lst.append(key)\n",
    "                if isinstance(value, (int, float)):\n",
    "                    flat_lst.append(value)\n",
    "    product = 1\n",
    "    for num in flat_lst:\n",
    "        product *= num\n",
    "    return product\n",
    "\n",
    "list1 = [1,2,3,4, [44,55,66, True], False, (34,56,78,89,34), {1,2,3,3,2,1}, {1:34, \"key2\": [55, 67, 78, 89], 4: (45, 22, 61, 34)}, [56, 'data science'], 'Machine Learning']\n",
    "\n",
    "result = product_of_numbers(list1)\n",
    "print(result) # Output: 5589349016084480000"
   ]
  },
  {
   "cell_type": "markdown",
   "id": "17026e2d-ad10-4d9e-9102-046667bf0ca5",
   "metadata": {},
   "source": [
    "The function first creates an empty list flat_list, which will be used to store all the numbers found in the original list. Then, the function flatten is defined to recursively flatten the input list by checking each item in the list and appending it to flat_list if it's an instance of int or float.\n",
    "\n",
    "Finally, the reduce function from the functools module is used to apply the mul operator to all elements in flat_list, computing the product of all the numbers. If flat_list is empty, the function returns 0.\n",
    "\n",
    "This function will output the product of all the numbers in list1, which is 0 in this case because there are no numbers in the list"
   ]
  },
  {
   "cell_type": "code",
   "execution_count": 4,
   "id": "2aee92fc-c80b-4e92-bc68-a24fb8783501",
   "metadata": {},
   "outputs": [
    {
     "name": "stdout",
     "output_type": "stream",
     "text": [
      "R$dzmg$gl$yvxlnv$z$Wzgz$Hxrvmgrhg.\n"
     ]
    }
   ],
   "source": [
    "def encrypt_message(message):\n",
    "    alphabet = 'abcdefghijklmnopqrstuvwxyz'\n",
    "    encrypted_message = ''\n",
    "    for char in message:\n",
    "        if char.lower() in alphabet:\n",
    "            encrypted_message += alphabet[25 - alphabet.index(char.lower())].upper() if char.isupper() else alphabet[25 - alphabet.index(char.lower())]\n",
    "        elif char.isspace():\n",
    "            encrypted_message += '$'\n",
    "        else:\n",
    "            encrypted_message += char\n",
    "    return encrypted_message\n",
    "\n",
    "message = \"I want to become a Data Scientist.\"\n",
    "encrypted_message = encrypt_message(message)\n",
    "print(encrypted_message)"
   ]
  }
 ],
 "metadata": {
  "kernelspec": {
   "display_name": "Python 3 (ipykernel)",
   "language": "python",
   "name": "python3"
  },
  "language_info": {
   "codemirror_mode": {
    "name": "ipython",
    "version": 3
   },
   "file_extension": ".py",
   "mimetype": "text/x-python",
   "name": "python",
   "nbconvert_exporter": "python",
   "pygments_lexer": "ipython3",
   "version": "3.10.8"
  }
 },
 "nbformat": 4,
 "nbformat_minor": 5
}
