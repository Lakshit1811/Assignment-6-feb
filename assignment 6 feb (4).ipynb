{
 "cells": [
  {
   "cell_type": "code",
   "execution_count": 2,
   "id": "0b7b76a0-e038-4487-8dd1-75b0894cc2f6",
   "metadata": {},
   "outputs": [
    {
     "name": "stdout",
     "output_type": "stream",
     "text": [
      "78718933113238978560\n"
     ]
    }
   ],
   "source": [
    "list1 = [1,2,3,4, [44,55,66, True], False, (34,56,78,89,34), {1,2,3,3,2,1}, {1:34, \"key2\": [55, 67, 78, 89], 4: (45,\n",
    "22, 61, 34)}, [56, 'data science'], 'Machine Learning']\n",
    "\n",
    "def list_(l):\n",
    "\tx = 1\n",
    "\tfor i in l:\n",
    "\t\tif type(i) is list:\n",
    "\t\t\tx = x*list_(i)\n",
    "\t\tif type(i) is set:\n",
    "\t\t\tx  = list_(list(i))\n",
    "\t\tif type(i) is int:\n",
    "\t\t\tx*=i\n",
    "\treturn x\n",
    "def tuple_(l):\n",
    "\tx = 1\n",
    "\tfor i in l:\n",
    "\t\tif type(i) is tuple:\n",
    "\t\t\tx = x*tuple_(i)\n",
    "\t\tif type(i) is int:\n",
    "\t\t\tx = x*i\n",
    "\treturn x\n",
    "def dict_(d):\n",
    "\tx = 1\n",
    "\tfor i in d:\n",
    "\t\tif type(i) is dict:\n",
    "\t\t\tx = x*dict_(i)\n",
    "\t\tif type(i) is tuple:\n",
    "\t\t\tx = x*tuple_(i)\n",
    "\t\tif type(i) is list:\n",
    "\t\t\tx = x*list_(i)\n",
    "\t\tif type(i) is int:\n",
    "\t\t\tx = x*i\n",
    "\t\tif  type(d[i]) is int:\n",
    "\t\t\tx = x*d[i]\n",
    "\treturn x\n",
    "x= 1\n",
    "for i in list1:\n",
    "\tif type(i) is int:\n",
    "\t\tx=x*i\n",
    "\tif type(i) is list:\n",
    "\t\tx = x *list_(i)\n",
    "\tif type(i) is tuple:\n",
    "\t\tx = x *tuple_(i)\n",
    "\tif type(i) is dict:\n",
    "\t\tx = x*dict_(i)\n",
    "\tif type(i) is set:\n",
    "\t\tx = x*list_(list(i))\n",
    "\t\n",
    "print(x)"
   ]
  },
  {
   "cell_type": "code",
   "execution_count": 1,
   "id": "2aee92fc-c80b-4e92-bc68-a24fb8783501",
   "metadata": {},
   "outputs": [
    {
     "name": "stdout",
     "output_type": "stream",
     "text": [
      "r$dzmg$gl$yvxlnv$z$wzgz$hxrvmgrhg.\n"
     ]
    }
   ],
   "source": [
    "def encrypt_message(message):\n",
    "    encrypted_message = \"\"\n",
    "    for char in message.lower():\n",
    "        if char.isalpha():\n",
    "            encrypted_char = chr(ord('a') + ord('z') - ord(char))\n",
    "        else:\n",
    "            encrypted_char = char\n",
    "        encrypted_message += encrypted_char.replace(\" \", \"$\")\n",
    "    return encrypted_message\n",
    "\n",
    "input_sentence = \"I want to become a Data Scientist.\"\n",
    "encrypted_sentence = encrypt_message(input_sentence)\n",
    "print(encrypted_sentence)"
   ]
  }
 ],
 "metadata": {
  "kernelspec": {
   "display_name": "Python 3 (ipykernel)",
   "language": "python",
   "name": "python3"
  },
  "language_info": {
   "codemirror_mode": {
    "name": "ipython",
    "version": 3
   },
   "file_extension": ".py",
   "mimetype": "text/x-python",
   "name": "python",
   "nbconvert_exporter": "python",
   "pygments_lexer": "ipython3",
   "version": "3.10.8"
  }
 },
 "nbformat": 4,
 "nbformat_minor": 5
}
