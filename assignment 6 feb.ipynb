{
 "cells": [
  {
   "cell_type": "code",
   "execution_count": 1,
   "id": "9e5a3be4-80f0-46f7-94d0-e0f47b4683dc",
   "metadata": {},
   "outputs": [
    {
     "ename": "SyntaxError",
     "evalue": "incomplete input (2418741389.py, line 25)",
     "output_type": "error",
     "traceback": [
      "\u001b[0;36m  Cell \u001b[0;32mIn[1], line 25\u001b[0;36m\u001b[0m\n\u001b[0;31m    list1 = [1, 2, 3, 4, [44, 55, 66, True], False, (34, 56, 78, 89, 34), {1, 2, 3, 3, 2, 1}, {1: 34, \"key2\": [55, 67, 78, 89], 4: (45, 22, 61, 34)}, [56, 'data science'],\u001b[0m\n\u001b[0m                                                                                                                                                                           ^\u001b[0m\n\u001b[0;31mSyntaxError\u001b[0m\u001b[0;31m:\u001b[0m incomplete input\n"
     ]
    }
   ],
   "source": []
  },
  {
   "cell_type": "code",
   "execution_count": 2,
   "id": "2226ad71-b1c3-464f-8527-8d29aecf27b5",
   "metadata": {},
   "outputs": [
    {
     "name": "stdout",
     "output_type": "stream",
     "text": [
      "0\n"
     ]
    }
   ],
   "source": [
    "def product_of_numbers(lst):\n",
    "    flat_list = []\n",
    "    \n",
    "    def flatten(lst):\n",
    "        for item in lst:\n",
    "            if isinstance(item, (int, float)):\n",
    "                flat_list.append(item)\n",
    "            elif isinstance(item, (tuple, list, set)):\n",
    "                flatten(item)\n",
    "            elif isinstance(item, dict):\n",
    "                for key, value in item.items():\n",
    "                    if isinstance(key, (int, float)):\n",
    "                        flat_list.append(key)\n",
    "                    if isinstance(value, (int, float)):\n",
    "                        flat_list.append(value)\n",
    "                    elif isinstance(value, (tuple, list, set)):\n",
    "                        flatten(value)\n",
    "                        \n",
    "    flatten(lst)\n",
    "    result = 1\n",
    "    for item in flat_list:\n",
    "        result *= item\n",
    "    return result\n",
    "\n",
    "list1 = [1, 2, 3, 4, [44, 55, 66, True], False, (34, 56, 78, 89, 34), {1, 2, 3, 3, 2, 1}, {1: 34, \"key2\": [55, 67, 78, 89], 4: (45, 22, 61, 34)}, [56, 'data science'], 'Machine Learning']\n",
    "print(product_of_numbers(list1))"
   ]
  },
  {
   "cell_type": "code",
   "execution_count": 3,
   "id": "66ae2f91-d66f-4143-b6f0-818cc51bc00e",
   "metadata": {},
   "outputs": [
    {
     "name": "stdout",
     "output_type": "stream",
     "text": [
      "r$dzmg$gl$yvxlnv$z$wzgz$hxrvmgrhg.\n"
     ]
    }
   ],
   "source": [
    "def encrypt_message(message):\n",
    "    message = message.lower()\n",
    "    encrypted_message = \"\"\n",
    "    for char in message:\n",
    "        if char == \" \":\n",
    "            encrypted_message += \"$\"\n",
    "        elif char.isalpha():\n",
    "            encrypted_message += chr(122 - ord(char) + 97)\n",
    "        else:\n",
    "            encrypted_message += char\n",
    "    return encrypted_message\n",
    "\n",
    "input_sentence = \"I want to become a Data Scientist.\"\n",
    "print(encrypt_message(input_sentence))"
   ]
  },
  {
   "cell_type": "code",
   "execution_count": null,
   "id": "bd2b8b7a-5708-4781-8aa5-445bb7d3c763",
   "metadata": {},
   "outputs": [],
   "source": []
  }
 ],
 "metadata": {
  "kernelspec": {
   "display_name": "Python 3 (ipykernel)",
   "language": "python",
   "name": "python3"
  },
  "language_info": {
   "codemirror_mode": {
    "name": "ipython",
    "version": 3
   },
   "file_extension": ".py",
   "mimetype": "text/x-python",
   "name": "python",
   "nbconvert_exporter": "python",
   "pygments_lexer": "ipython3",
   "version": "3.10.8"
  }
 },
 "nbformat": 4,
 "nbformat_minor": 5
}
